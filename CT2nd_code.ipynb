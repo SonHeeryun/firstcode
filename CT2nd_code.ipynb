{
  "nbformat": 4,
  "nbformat_minor": 0,
  "metadata": {
    "colab": {
      "provenance": [],
      "authorship_tag": "ABX9TyPGrfToS+nPXDqo+JmZs5lY",
      "include_colab_link": true
    },
    "kernelspec": {
      "name": "python3",
      "display_name": "Python 3"
    },
    "language_info": {
      "name": "python"
    }
  },
  "cells": [
    {
      "cell_type": "markdown",
      "metadata": {
        "id": "view-in-github",
        "colab_type": "text"
      },
      "source": [
        "<a href=\"https://colab.research.google.com/github/SonHeeryun/firstcode/blob/main/CT2nd_code.ipynb\" target=\"_parent\"><img src=\"https://colab.research.google.com/assets/colab-badge.svg\" alt=\"Open In Colab\"/></a>"
      ]
    },
    {
      "cell_type": "markdown",
      "source": [
        "2번째 코딩 = 사용자로부터 3개의 값을 받아서 합을 내고, 평균을 출력하는 코드"
      ],
      "metadata": {
        "id": "FyYpIxO1Bwyu"
      }
    },
    {
      "cell_type": "code",
      "source": [
        "n1=int(input(\"N1의 값을 입력하시오.:\"))     # 사용자로부터 N1의 값을 입력 받음\n",
        "n2=int(input(\"N2의 값을 입력하시오.:\"))     # 사용자로부터 N2의 값을 입력 받음\n",
        "n3=int(input(\"N3의 값을 입력하시오.:\"))     # 사용자로부터 N3의 값을 입력 받음\n",
        "total=n1+n2+n3                              # N1, N2, N3의 합을 계산하여 total 변수에 저장\n",
        "average=total/3                             # 총합을 3으로 나누어 평균을 계산하여 average 변수에 저장\n",
        "print(average)                              # 평균 값을 출력"
      ],
      "metadata": {
        "id": "T3TkC-9UB3JJ"
      },
      "execution_count": null,
      "outputs": []
    }
  ]
}