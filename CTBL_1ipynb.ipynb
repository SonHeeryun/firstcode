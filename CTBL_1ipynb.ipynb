{
  "nbformat": 4,
  "nbformat_minor": 0,
  "metadata": {
    "colab": {
      "provenance": [],
      "authorship_tag": "ABX9TyOi2N0n843v7HvVr77IZv1N",
      "include_colab_link": true
    },
    "kernelspec": {
      "name": "python3",
      "display_name": "Python 3"
    },
    "language_info": {
      "name": "python"
    }
  },
  "cells": [
    {
      "cell_type": "markdown",
      "metadata": {
        "id": "view-in-github",
        "colab_type": "text"
      },
      "source": [
        "<a href=\"https://colab.research.google.com/github/SonHeeryun/firstcode/blob/main/CTBL_1ipynb.ipynb\" target=\"_parent\"><img src=\"https://colab.research.google.com/assets/colab-badge.svg\" alt=\"Open In Colab\"/></a>"
      ]
    },
    {
      "cell_type": "markdown",
      "source": [
        "1. 학생으로부터 성적을 입력받아 합격유무를 출력하는 코드작성\n",
        "\n",
        "- 사용변수: grads\n",
        "- 사용수식: grade>=70:"
      ],
      "metadata": {
        "id": "rZ6SQjcd1tAt"
      }
    },
    {
      "cell_type": "code",
      "source": [
        "Grade = int(input(\"성적입력: \"))\n",
        "if Grade >= 70:\n",
        "  print(\"70점 이상이므로 합격\")\n",
        "else:\n",
        "  print(\"70점 이하는 불합격\")\n"
      ],
      "metadata": {
        "colab": {
          "base_uri": "https://localhost:8080/"
        },
        "id": "eB8hQYl71tRs",
        "outputId": "07d63e10-c80c-4e38-a52d-af74e0c9ec77"
      },
      "execution_count": 2,
      "outputs": [
        {
          "output_type": "stream",
          "name": "stdout",
          "text": [
            "성적입력: 80\n",
            "70점 이상이므로 합격\n"
          ]
        }
      ]
    },
    {
      "cell_type": "markdown",
      "source": [
        "2. 쇼핑몰의 배송료를 계산하는 코드 작성\n",
        "- 변수명 : price, shipping_cost\n",
        "- 수식 : price >=20000\n",
        "- shipping_cost = 3000\n"
      ],
      "metadata": {
        "id": "rGMgQF923scz"
      }
    },
    {
      "cell_type": "code",
      "source": [
        "price = int(input(\"구입금액 입력: \"))\n",
        "if price >= 20000:\n",
        "  shipping_cost = 0\n",
        "  print(f'구입금액이 {price}원 이상입니다. ')\n",
        "else:\n",
        "    shipping_cost = 3000\n",
        "    print(\"구입금액이 20000원 이하입니다\")\n",
        "print(f' 회원님의 배송료는  {shipping_cost}입니다. ')"
      ],
      "metadata": {
        "colab": {
          "base_uri": "https://localhost:8080/"
        },
        "id": "j_ofNh8O40OX",
        "outputId": "7c2dfdac-6a93-4863-b6f6-6b8acdcf3062"
      },
      "execution_count": 12,
      "outputs": [
        {
          "output_type": "stream",
          "name": "stdout",
          "text": [
            "구입금액 입력: 20000\n",
            "구입금액이 20000원 이상입니다. \n",
            " 회원님의 배송료는  0입니다. \n"
          ]
        }
      ]
    },
    {
      "cell_type": "markdown",
      "source": [
        "3. 근무시간에 따라 초과근무와 정상근무를 판별하는 코드작성\n",
        "- 변수 : work_hour\n",
        "- 수식 : >=, 기준시간 : 72시간"
      ],
      "metadata": {
        "id": "yKfEZj__7-Fx"
      }
    },
    {
      "cell_type": "code",
      "source": [
        "work_hour = int(input(\"근무시간을 작성하시오\"))\n",
        "if work_hour >= 72:\n",
        "  print(f' {work_hour}시간 근무로 초과근무 입니다. ')\n",
        "else:\n",
        "  print(f' {work_hour}시간 근무로 정상근무 입니다. ')"
      ],
      "metadata": {
        "colab": {
          "base_uri": "https://localhost:8080/"
        },
        "id": "X-y7u5R88fHa",
        "outputId": "c6fb1f2b-1d40-4bbd-db22-5823ecec35e9"
      },
      "execution_count": 17,
      "outputs": [
        {
          "output_type": "stream",
          "name": "stdout",
          "text": [
            "근무시간을 작성하시오70\n",
            " 70시간 근무로 정상근무 입니다. \n"
          ]
        }
      ]
    },
    {
      "cell_type": "markdown",
      "source": [
        "4. 정수를 입력받아서 짝수인지 홀수인지 판별하는 코드작성\n",
        "- 변수 : num\n",
        "- 수식 : (num %2) != 0:"
      ],
      "metadata": {
        "id": "DSBgMQ_r-Ctc"
      }
    },
    {
      "cell_type": "code",
      "source": [
        "num= int(input(\"정수를 입력하시오\"))\n",
        "if (num %2) != 0:\n",
        "  print(\"홀수입니다\")\n",
        "else:\n",
        "  print(\"짝수입니다. \")"
      ],
      "metadata": {
        "colab": {
          "base_uri": "https://localhost:8080/"
        },
        "id": "-jTL-Sgx-vrO",
        "outputId": "799011e9-6a1a-4d79-e9ab-a7d7da099be4"
      },
      "execution_count": 16,
      "outputs": [
        {
          "output_type": "stream",
          "name": "stdout",
          "text": [
            "정수를 입력하시오4\n",
            "짝수입니다. \n"
          ]
        }
      ]
    },
    {
      "cell_type": "markdown",
      "source": [
        "5. 사용자의 이름과 나일르 입력받고, 답변하는 코드 작성\n",
        "- 입력 : 성명 - name\n",
        "- 입력 : 나이 - age\n",
        "- 수식 : if age <= 20:\n",
        "\n",
        "최종 출력물\n",
        "- 이름을 입력하시오.: 손희륜\n",
        "- 나이를 입력하시오.: 20\n",
        "- (1) 프로그래밍을 배우는 최적의 나이입니다.\n",
        "- (2) 아직도 늦지 않았습니다. 불광불급\n"
      ],
      "metadata": {
        "id": "WxEiSbxw7G4T"
      }
    },
    {
      "cell_type": "code",
      "source": [
        "name = input(\"이름을 입력하시오\")\n",
        "age = int(input(\"나이를 입력하시오\"))\n",
        "if age <= 20:\n",
        "  print(\"프로그래밍을 배우는 최적의 나이입니다\")\n",
        "else:\n",
        "  print(\"아직도 늦지 않았습니다. 도전정신\")"
      ],
      "metadata": {
        "colab": {
          "base_uri": "https://localhost:8080/"
        },
        "id": "uUlgCveVBaqs",
        "outputId": "a9276032-c7f5-4289-e838-75450f7ed19a"
      },
      "execution_count": 23,
      "outputs": [
        {
          "output_type": "stream",
          "name": "stdout",
          "text": [
            "이름을 입력하시오손흐륜\n",
            "나이를 입력하시오30\n",
            "아직도 늦지 않았습니다. 도전정신\n"
          ]
        }
      ]
    },
    {
      "cell_type": "code",
      "source": [
        "import random # 난수 생성을 위한 라이브러리를 불러옵니다.\n",
        "\n",
        "def generate_lotto(): # 로또 번호를 생성하는 함수를 정의합니다.\n",
        "    return random.sample(range(1, 46), 6) # 1부터 45까지의 숫자 중에서 무작위로 6개를 선택합니다.\n",
        "\n",
        "lotto_numbers = generate_lotto() # 로또 번호를 생성합니다.\n",
        "lotto_numbers.sort()  # 생성된 로또 번호를 오름차순으로 정렬합니다.\n",
        "print(lotto_numbers)  # 생성된 로또 번호를 출력합니다.\n"
      ],
      "metadata": {
        "colab": {
          "base_uri": "https://localhost:8080/"
        },
        "id": "IpHdtm0tFD-N",
        "outputId": "cddac06c-6b78-4655-d916-29885dd93c74"
      },
      "execution_count": 25,
      "outputs": [
        {
          "output_type": "stream",
          "name": "stdout",
          "text": [
            "[1, 7, 29, 35, 40, 43]\n"
          ]
        }
      ]
    },
    {
      "cell_type": "code",
      "source": [
        "# 사용자로부터 이름과 나이를 입력받는 코드입니다.\n",
        "name = input(\"이름을 입력하시오.: \") # 사용자의 이름을 입력받습니다.\n",
        "age = int(input(\"나이를 입력하시오.: \")) # 사용자의 나이를 입력받습니다.\n",
        "\n",
        "# 사용자의 나이에 따라 다른 메시지를 출력합니다.\n",
        "if age <= 20: # 만약 사용자의 나이가 20세 이하라면,\n",
        "    print(f\"(1) {name}님, 프로그래밍을 배우는 최적의 나이입니다.\") # 이 메시지를 출력합니다.\n",
        "else: # 만약 사용자의 나이가 20세 초과라면,\n",
        "    print(f\"(2) {name}님, 아직도 늦지 않았습니다. 도전정신\") # 이 메시지를 출력합니다.\n",
        "\n"
      ],
      "metadata": {
        "colab": {
          "base_uri": "https://localhost:8080/"
        },
        "id": "VAlg1AVzGBnN",
        "outputId": "5c95d955-1fe0-4cd4-d0a8-34d40d8c785b"
      },
      "execution_count": 27,
      "outputs": [
        {
          "output_type": "stream",
          "name": "stdout",
          "text": [
            "이름을 입력하시오.: 손희륜\n",
            "나이를 입력하시오.: 30\n",
            "(2) 손희륜님, 아직도 늦지 않았습니다. 불광불급\n"
          ]
        }
      ]
    }
  ]
}