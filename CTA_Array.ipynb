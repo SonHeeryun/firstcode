{
  "nbformat": 4,
  "nbformat_minor": 0,
  "metadata": {
    "colab": {
      "provenance": [],
      "authorship_tag": "ABX9TyPF2fh7MR9gtxolW+tLd9j7",
      "include_colab_link": true
    },
    "kernelspec": {
      "name": "python3",
      "display_name": "Python 3"
    },
    "language_info": {
      "name": "python"
    }
  },
  "cells": [
    {
      "cell_type": "markdown",
      "metadata": {
        "id": "view-in-github",
        "colab_type": "text"
      },
      "source": [
        "<a href=\"https://colab.research.google.com/github/SonHeeryun/firstcode/blob/main/CTA_Array.ipynb\" target=\"_parent\"><img src=\"https://colab.research.google.com/assets/colab-badge.svg\" alt=\"Open In Colab\"/></a>"
      ]
    },
    {
      "cell_type": "code",
      "execution_count": null,
      "metadata": {
        "id": "izKYtAvBL8kN"
      },
      "outputs": [],
      "source": []
    },
    {
      "cell_type": "markdown",
      "source": [
        "\n",
        "1. 배열의 선언\n",
        "- 일반 변수의 선언 : 변수명= 변수의 값\n",
        "- 배열의 변수 선언 : 변수명 = [ , , ]"
      ],
      "metadata": {
        "id": "1no7mwsPMB2Z"
      }
    },
    {
      "cell_type": "code",
      "source": [
        "movie_list = [\"아바타\", \"타이타닉\", \"스타워즈\", \"주라기월드\", \"어벤저스\"]\n",
        "print(movie_list[0])\n",
        "print(movie_list[4]"
      ],
      "metadata": {
        "id": "V5LV5A8EMFOD"
      },
      "execution_count": null,
      "outputs": []
    },
    {
      "cell_type": "markdown",
      "source": [
        "2.요일을 배열로 선언하라.."
      ],
      "metadata": {
        "id": "6rGQ_ARzMN2N"
      }
    },
    {
      "cell_type": "code",
      "source": [
        "day_list = [\"mom\", \"Tues\", \"wed\", \"Thur\", \"Fri\", \"Sat\", \"Sun\"]\n",
        "print(day_list[0])\n",
        "print(day_list[1])\n",
        "print(day_list[2])\n",
        "print(day_list[3])\n",
        "print(day_list[4])\n",
        "print(day_list[5])\n",
        "print(day_list[6])"
      ],
      "metadata": {
        "id": "PNGfgT3oMO1V"
      },
      "execution_count": null,
      "outputs": []
    }
  ]
}