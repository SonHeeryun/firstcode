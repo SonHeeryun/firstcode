{
  "nbformat": 4,
  "nbformat_minor": 0,
  "metadata": {
    "colab": {
      "provenance": [],
      "authorship_tag": "ABX9TyO7qypJ+7swnrgv/fu2S3YJ",
      "include_colab_link": true
    },
    "kernelspec": {
      "name": "python3",
      "display_name": "Python 3"
    },
    "language_info": {
      "name": "python"
    }
  },
  "cells": [
    {
      "cell_type": "markdown",
      "metadata": {
        "id": "view-in-github",
        "colab_type": "text"
      },
      "source": [
        "<a href=\"https://colab.research.google.com/github/SonHeeryun/firstcode/blob/main/CTA_Array.ipynb\" target=\"_parent\"><img src=\"https://colab.research.google.com/assets/colab-badge.svg\" alt=\"Open In Colab\"/></a>"
      ]
    },
    {
      "cell_type": "code",
      "execution_count": null,
      "metadata": {
        "id": "EIPOwPiJLXtL"
      },
      "outputs": [],
      "source": [
        "1. 배열의 선언\n",
        "- 일반 변수의 선언 : 변수명= 변수의 값\n",
        "- 배열의 변수 선언 : 변수명 = [ , , ]"
      ]
    },
    {
      "cell_type": "code",
      "source": [
        "movie_list = [\"아바타\", \"타이타닉\", \"스타워즈\", \"주라기월드\", \"어벤저스\"]     # \"아바타\", \"타이타닉\", \"스타워즈\", \"주라기월드\", \"어벤저스\" 를 movie_list 로 지정합니다.\n",
        "print(movie_list[0])                                                          # movie_list의 첫 번째 요소인 \"아바타\"를 출력합니다.\n",
        "print(movie_list[4])                                                          # movie_list의 다섯 번째 요소인 \"어벤저스\"를 출력합니다."
      ],
      "metadata": {
        "colab": {
          "base_uri": "https://localhost:8080/"
        },
        "id": "b1P2nwe3NUf9",
        "outputId": "35f58862-712a-431a-ce08-274179c4f40a"
      },
      "execution_count": null,
      "outputs": [
        {
          "output_type": "stream",
          "name": "stdout",
          "text": [
            "movie_list[0]\n",
            "movie_list[4]\n"
          ]
        }
      ]
    },
    {
      "cell_type": "markdown",
      "source": [
        "2. 요일을 배열로 선언하라\n",
        "변수명 : day_list\n",
        "요일 : 월(mom), 화(Tues), 수(Wed), 목(Thur), 금(Fri), 토(Sat), 일(Sun)"
      ],
      "metadata": {
        "id": "7iDflsCCOaKM"
      }
    },
    {
      "cell_type": "code",
      "source": [
        "day_list = [\"mom\", \"Tues\", \"wed\", \"Thur\", \"Fri\", \"Sat\", \"Sun\"]    # \"mom\", \"Tues\", \"wed\", \"Thur\", \"Fri\", \"Sat\", \"Sun\" 를 day_list 로 지정합니다.\n",
        "print(day_list[0])                                                # day_list의 첫 번째 요소인 \"mom\"을 출력합니다.\n",
        "print(day_list[1])                                                # day_list의 두 번째 요소인 \"Tues\"을 출력합니다.\n",
        "print(day_list[2])                                                # day_list의 세 번째 요소인 \"wed\"를 출력합니다.\n",
        "print(day_list[3])                                                # day_list의 네 번째 요소인 \"Thur\"을 출력합니다.\n",
        "print(day_list[4])                                                # day_list의 다섯 번째 요소인 \"Fri\"를 출력합니다.\n",
        "print(day_list[5])                                                # day_list의 여섯 번째 요소인 \"Sat\"을 출력합니다.\n",
        "print(day_list[6])                                                # day_list의 일곱 번째 요소인 \"Sun\"을 출력합니다."
      ],
      "metadata": {
        "id": "z86BNSd-Od9g",
        "colab": {
          "base_uri": "https://localhost:8080/"
        },
        "outputId": "37bb040d-a22f-4d41-e657-01e53f52a185"
      },
      "execution_count": null,
      "outputs": [
        {
          "output_type": "stream",
          "name": "stdout",
          "text": [
            "mom\n",
            "Tues\n",
            "wed\n",
            "Thur\n",
            "Fri\n",
            "Sat\n",
            "Sun\n"
          ]
        }
      ]
    }
  ]
}