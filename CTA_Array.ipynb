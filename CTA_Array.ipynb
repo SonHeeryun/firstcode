{
  "nbformat": 4,
  "nbformat_minor": 0,
  "metadata": {
    "colab": {
      "provenance": [],
      "authorship_tag": "ABX9TyPb6sTgAJVh/DttIlBCQ4ZH",
      "include_colab_link": true
    },
    "kernelspec": {
      "name": "python3",
      "display_name": "Python 3"
    },
    "language_info": {
      "name": "python"
    }
  },
  "cells": [
    {
      "cell_type": "markdown",
      "metadata": {
        "id": "view-in-github",
        "colab_type": "text"
      },
      "source": [
        "<a href=\"https://colab.research.google.com/github/SonHeeryun/firstcode/blob/main/CTA_Array.ipynb\" target=\"_parent\"><img src=\"https://colab.research.google.com/assets/colab-badge.svg\" alt=\"Open In Colab\"/></a>"
      ]
    },
    {
      "cell_type": "code",
      "execution_count": null,
      "metadata": {
        "id": "EIPOwPiJLXtL"
      },
      "outputs": [],
      "source": [
        "1. 배열의 선언\n",
        "- 일반 변수의 선언 : 변수명= 변수의 값\n",
        "- 배열의 변수 선언 : 변수명 = [ , , ]"
      ]
    },
    {
      "cell_type": "code",
      "source": [
        "movie_list = [\"아바타\", \"타이타닉\", \"스타워즈\", \"주라기월드\", \"어벤저스\"]\n",
        "print(movie_list[0])\n",
        "print(movie_list[4])"
      ],
      "metadata": {
        "colab": {
          "base_uri": "https://localhost:8080/"
        },
        "id": "b1P2nwe3NUf9",
        "outputId": "35f58862-712a-431a-ce08-274179c4f40a"
      },
      "execution_count": 3,
      "outputs": [
        {
          "output_type": "stream",
          "name": "stdout",
          "text": [
            "movie_list[0]\n",
            "movie_list[4]\n"
          ]
        }
      ]
    },
    {
      "cell_type": "markdown",
      "source": [
        "2. 요일을 배열로 선언하라\n",
        "변수명 : day_list\n",
        "요일 : 월(mom), 화(Tues), 수(Wed), 목(Thur), 금(Fri), 토(Sat), 일(Sun)"
      ],
      "metadata": {
        "id": "7iDflsCCOaKM"
      }
    },
    {
      "cell_type": "code",
      "source": [
        "day_list = [\"mom\", \"Tues\", \"wed\", \"Thur\", \"Fri\", \"Sat\", \"Sun\"]"
      ],
      "metadata": {
        "id": "z86BNSd-Od9g"
      },
      "execution_count": null,
      "outputs": []
    }
  ]
}