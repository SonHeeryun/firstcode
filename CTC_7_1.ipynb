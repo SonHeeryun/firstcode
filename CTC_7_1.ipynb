{
  "nbformat": 4,
  "nbformat_minor": 0,
  "metadata": {
    "colab": {
      "provenance": [],
      "authorship_tag": "ABX9TyMes3kHsAd67yXsE3tlA92D",
      "include_colab_link": true
    },
    "kernelspec": {
      "name": "python3",
      "display_name": "Python 3"
    },
    "language_info": {
      "name": "python"
    }
  },
  "cells": [
    {
      "cell_type": "markdown",
      "metadata": {
        "id": "view-in-github",
        "colab_type": "text"
      },
      "source": [
        "<a href=\"https://colab.research.google.com/github/SonHeeryun/firstcode/blob/main/CTC_7_1.ipynb\" target=\"_parent\"><img src=\"https://colab.research.google.com/assets/colab-badge.svg\" alt=\"Open In Colab\"/></a>"
      ]
    },
    {
      "cell_type": "markdown",
      "source": [
        "2023-10-31 레포트"
      ],
      "metadata": {
        "id": "fVH9drquQ_HI"
      }
    },
    {
      "cell_type": "code",
      "source": [
        "won= int(input(\"환전할 금액을 입력(kor):\"))\n",
        "usd= int(input(\"현재 달러의 환율 입력(231031: 1372):\"))\n",
        "exchange = won//usd\n",
        "print(f'환전할 금액은 {won}이며, 달러 금액은 {usd}이고, 환전금액은 {exchange}달러입니다.')"
      ],
      "metadata": {
        "colab": {
          "base_uri": "https://localhost:8080/"
        },
        "id": "y4AtVxlCRGHg",
        "outputId": "75a08bdd-feb7-440e-dbdb-e910f55fc0fd"
      },
      "execution_count": 23,
      "outputs": [
        {
          "output_type": "stream",
          "name": "stdout",
          "text": [
            "환전할 금액을 입력(kor):10000\n",
            "현재 달러의 환율 입력(231031: 1372):1372\n",
            "환전할 금액은 10000이며, 달러 금액은 1372이고, 환전금액은 7달러입니다.\n"
          ]
        }
      ]
    },
    {
      "cell_type": "markdown",
      "source": [
        "1. 사용자로 부터 3개의 값(x,y,z)를 입력받아서 각각 1씩 증가되고, 출력되는 코드작성"
      ],
      "metadata": {
        "id": "oC0QJqMPHLSx"
      }
    },
    {
      "cell_type": "code",
      "source": [
        "x=int(input(\"x의 값을 입력하시오\"))\n",
        "y=int(input(\"y의 값을 입력하시오\"))\n",
        "z=int(input(\"z의 값을 입력하시오\"))\n",
        "x= x+1\n",
        "y= y+1\n",
        "z= z+1\n",
        "print(f'x의 값은 {x}이며, y의 값은 {y}이고, z의 값은 {z}이다.')"
      ],
      "metadata": {
        "colab": {
          "base_uri": "https://localhost:8080/"
        },
        "id": "NDOFDxQFHRwV",
        "outputId": "63394010-4958-4d4a-ac16-3093b0913db4"
      },
      "execution_count": 2,
      "outputs": [
        {
          "output_type": "stream",
          "name": "stdout",
          "text": [
            "x의 값을 입력하시오1\n",
            "x의 값을 입력하시오2\n",
            "x의 값을 입력하시오3\n",
            "x의 값은 2이며, y의 값은 3이고, z의 값은 4이다.\n"
          ]
        }
      ]
    },
    {
      "cell_type": "markdown",
      "source": [
        "2. 알바생의 시급과 시간을 계산하여 월급을 출력하는 코드\n"
      ],
      "metadata": {
        "id": "JOe8WZ-hJKir"
      }
    },
    {
      "cell_type": "code",
      "source": [
        "hours_worked = int(input(\"일한 시간을 입력하시오\"))\n",
        "pay_rate = int(input(\"시급을 입력하시오(23년기준 9620원):\"))\n",
        "monthly_pay = hours_worked*pay_rate\n",
        "print(f'일한 시간은{hours_worked}이고, 시급은 {pay_rate}원이며, 월급여는 {monthly_pay}입니다.')"
      ],
      "metadata": {
        "colab": {
          "base_uri": "https://localhost:8080/"
        },
        "id": "Uc6UDHcuJgYm",
        "outputId": "64606911-7cfb-4d3d-87a7-d9f73ec796fc"
      },
      "execution_count": 6,
      "outputs": [
        {
          "output_type": "stream",
          "name": "stdout",
          "text": [
            "일한 시간을 입력하시오10\n",
            "시급을 입력하시오(23년기준 9620원):9620\n",
            "일한 시간은10이고, 시급은 9620원이며, 월급여는 96200입니다.\n"
          ]
        }
      ]
    },
    {
      "cell_type": "markdown",
      "source": [
        "3. 환율 계산하는 코드작성\n",
        "- 원의 변수는 won\n",
        "- 달러의 변수는 usd\n",
        "- 환전의 변수는 exchange\n"
      ],
      "metadata": {
        "id": "yIh0U2TXLmYC"
      }
    },
    {
      "cell_type": "code",
      "source": [
        "won= int(input(\"환전할 금액을 입력(kor):\"))\n",
        "usd= int(input(\"현재 달러의 환율 입력(231031: 1372):\"))\n",
        "exchange = won*usd\n",
        "print(f'환전할 금액은 {won}이며, 달러 금액은 {usd}이고, 환전금액은 {exchange}입니다.')"
      ],
      "metadata": {
        "colab": {
          "base_uri": "https://localhost:8080/"
        },
        "id": "5S6745_ML7tc",
        "outputId": "1fbe67cc-891b-4d36-e6cf-e46eededefee"
      },
      "execution_count": 9,
      "outputs": [
        {
          "output_type": "stream",
          "name": "stdout",
          "text": [
            "환전할 금액을 입력(kor):5000\n",
            "현재 달러의 환율 입력(231031: 1372):1372\n",
            "환전할 금액은 5000이며, 달러 금액은 1372이고, 환전금액은 6860000입니다.\n"
          ]
        }
      ]
    },
    {
      "cell_type": "markdown",
      "source": [
        "4. 화씨(fahrenheit)를 섭시(celcius)로 변환하는 코드작성\n"
      ],
      "metadata": {
        "id": "tIj0onsfN9hj"
      }
    },
    {
      "cell_type": "code",
      "source": [
        "fahrenheit= int(input(\"화씨온도를 입력하시오.:\"))\n",
        "celcius= (fahrenheit - 32) // 1.8\n",
        "print(f'화씨온도는 {fahrenheit}, 섭씨{celcius}입니다.')"
      ],
      "metadata": {
        "colab": {
          "base_uri": "https://localhost:8080/"
        },
        "id": "nt-L9GBXOT4i",
        "outputId": "95b97d18-f568-45ef-fb34-ea40fcdf1e85"
      },
      "execution_count": 16,
      "outputs": [
        {
          "output_type": "stream",
          "name": "stdout",
          "text": [
            "화씨온도를 입력하시오.:100\n",
            "화씨온도는 100, 섭씨37.0입니다.\n"
          ]
        }
      ]
    },
    {
      "cell_type": "code",
      "source": [
        "celcius= int(input(\"섭씨온도를 입력하시오.:\"))\n",
        "fahrenheit= (celcius * 1.8+32)\n",
        "print(f'섭씨온도는 {celcius}, 화씨{fahrenheit}입니다.')"
      ],
      "metadata": {
        "colab": {
          "base_uri": "https://localhost:8080/"
        },
        "id": "ENfdY8gFPrz_",
        "outputId": "5b36d35c-0f46-4242-8eb3-3f07601e4834"
      },
      "execution_count": 17,
      "outputs": [
        {
          "output_type": "stream",
          "name": "stdout",
          "text": [
            "섭씨온도를 입력하시오.:38\n",
            "섭씨온도는 38, 화씨100.4입니다.\n"
          ]
        }
      ]
    },
    {
      "cell_type": "code",
      "source": [
        "celcius= float(input(\"섭씨온도를 입력하시오.:\"))\n",
        "fahrenheit= (celcius * 1.8+32)\n",
        "print(f'섭씨온도는 {celcius}, 화씨{fahrenheit}입니다.')"
      ],
      "metadata": {
        "colab": {
          "base_uri": "https://localhost:8080/"
        },
        "id": "VpuH1zRBQYee",
        "outputId": "f0c276c8-743d-499d-bc82-96c2e63d388c"
      },
      "execution_count": 19,
      "outputs": [
        {
          "output_type": "stream",
          "name": "stdout",
          "text": [
            "섭씨온도를 입력하시오.:37.7777777777777778\n",
            "섭씨온도는 37.77777777777778, 화씨100.0입니다.\n"
          ]
        }
      ]
    },
    {
      "cell_type": "markdown",
      "source": [
        "사용자로부터 2개의 정수를 받아서 합계를 출력\n"
      ],
      "metadata": {
        "id": "LnZpVqWDU3B3"
      }
    },
    {
      "cell_type": "code",
      "source": [
        "x=int(input(\"첫번째 정수를 입력하시오\"))\n",
        "y=int(input(\"두번째 정수를 입력하시오\"))\n",
        "sum= x+y\n",
        "print(f'합계는{sum}입니다')"
      ],
      "metadata": {
        "colab": {
          "base_uri": "https://localhost:8080/"
        },
        "id": "dqPxgQOWVDgl",
        "outputId": "1fc8c701-ec1a-4418-8f2e-f821a781ec78"
      },
      "execution_count": 29,
      "outputs": [
        {
          "output_type": "stream",
          "name": "stdout",
          "text": [
            "정수를 2개를 입력하시오1\n",
            "정수를 2개를 입력하시오2\n",
            "합계는3\n"
          ]
        }
      ]
    },
    {
      "cell_type": "markdown",
      "source": [
        "부가세 계산"
      ],
      "metadata": {
        "id": "KxyTIEkTV0eU"
      }
    },
    {
      "cell_type": "code",
      "source": [
        "price= int(input(\"상품의 가격을 입력하시오\"))\n",
        "vat=price*0.1\n",
        "print(f' 부가세는 {vat}입니다')"
      ],
      "metadata": {
        "colab": {
          "base_uri": "https://localhost:8080/"
        },
        "id": "xLpvFaXOWDC8",
        "outputId": "02b5921e-55bf-481e-80ce-7d6c307f0ece"
      },
      "execution_count": 27,
      "outputs": [
        {
          "output_type": "stream",
          "name": "stdout",
          "text": [
            "상품의 가격을 입력하시오10000\n",
            " 부가세는 1000.0입니다\n"
          ]
        }
      ]
    }
  ]
}