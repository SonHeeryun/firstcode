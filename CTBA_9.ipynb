{
  "nbformat": 4,
  "nbformat_minor": 0,
  "metadata": {
    "colab": {
      "provenance": [],
      "authorship_tag": "ABX9TyOwptURKBQore4FYZHjhuzQ",
      "include_colab_link": true
    },
    "kernelspec": {
      "name": "python3",
      "display_name": "Python 3"
    },
    "language_info": {
      "name": "python"
    }
  },
  "cells": [
    {
      "cell_type": "markdown",
      "metadata": {
        "id": "view-in-github",
        "colab_type": "text"
      },
      "source": [
        "<a href=\"https://colab.research.google.com/github/SonHeeryun/firstcode/blob/main/CTBA_9.ipynb\" target=\"_parent\"><img src=\"https://colab.research.google.com/assets/colab-badge.svg\" alt=\"Open In Colab\"/></a>"
      ]
    },
    {
      "cell_type": "code",
      "source": [],
      "metadata": {
        "id": "jmEcrmD0PjrM"
      },
      "execution_count": null,
      "outputs": []
    },
    {
      "cell_type": "markdown",
      "source": [
        "1. 두가지 이상의 선택 다방향 선택구조 코딩\n",
        "- 배송료 처리 세가지로 작성\n",
        "- 변수: price. 가격 100000원 이상 0원, 2만원 이상 3000원, 그외 5천원식"
      ],
      "metadata": {
        "id": "ECU1-hhXMJd6"
      }
    },
    {
      "cell_type": "code",
      "execution_count": 11,
      "metadata": {
        "colab": {
          "base_uri": "https://localhost:8080/"
        },
        "id": "h2DxB18UMA24",
        "outputId": "370f5556-466c-4cb5-ce12-ef18a195bdeb"
      },
      "outputs": [
        {
          "output_type": "stream",
          "name": "stdout",
          "text": [
            "배송료를 계산합니다.\n",
            "##############################\n",
            "구입금액입력: 19000\n",
            "배송료는 5000입니다.\n"
          ]
        }
      ],
      "source": [
        "print(\"배송료를 계산합니다.\")\n",
        "print(\"#\"*30)\n",
        "price=int(input(\"구입금액입력: \"))\n",
        "if price >= 100000:\n",
        "  shipping_cost= 0\n",
        "else:\n",
        "  if price >= 20000:\n",
        "    shipping_cost = 3000\n",
        "  else:\n",
        "    shipping_cost= 5000\n",
        "print(f'배송료는 {shipping_cost}입니다.')"
      ]
    },
    {
      "cell_type": "markdown",
      "source": [
        "2. 환영합니다. 5번 출력. 10번 출력, 30번 출력"
      ],
      "metadata": {
        "id": "Y8ayskq1OP1s"
      }
    },
    {
      "cell_type": "code",
      "source": [
        "print(\"환영합니다\")\n",
        "print(\"환영합니다\")\n",
        "print(\"환영합니다\")\n",
        "print(\"환영합니다\")\n",
        "print(\"환영합니다\")"
      ],
      "metadata": {
        "colab": {
          "base_uri": "https://localhost:8080/"
        },
        "id": "YdRRFevHOYTl",
        "outputId": "061b9798-745a-46f3-a1ba-4c3a549af2c7"
      },
      "execution_count": 4,
      "outputs": [
        {
          "output_type": "stream",
          "name": "stdout",
          "text": [
            "환영합니다\n",
            "환영합니다\n",
            "환영합니다\n",
            "환영합니다\n",
            "환영합니다\n"
          ]
        }
      ]
    },
    {
      "cell_type": "code",
      "source": [
        "print(\"환영합니다.\\n\" * 5)"
      ],
      "metadata": {
        "colab": {
          "base_uri": "https://localhost:8080/"
        },
        "id": "DVAjsGe_OlFE",
        "outputId": "f09f7361-e85b-438d-ef25-b3d545be7846"
      },
      "execution_count": 10,
      "outputs": [
        {
          "output_type": "stream",
          "name": "stdout",
          "text": [
            "환영합니다.\n",
            "환영합니다.\n",
            "환영합니다.\n",
            "환영합니다.\n",
            "환영합니다.\n",
            "\n"
          ]
        }
      ]
    },
    {
      "cell_type": "code",
      "source": [
        "count=0\n",
        "while count <=5:\n",
        "  print(\"(\". count, \")\", \"환영합니다.\")\n",
        "  print(f'({count})',\"환영합니다.\")\n",
        "  #count=count+1\n",
        "  count +=1"
      ],
      "metadata": {
        "colab": {
          "base_uri": "https://localhost:8080/"
        },
        "id": "aRwF7C-FSi4Q",
        "outputId": "7a5c917f-e5df-422a-d822-ab3b5ed0c730"
      },
      "execution_count": 18,
      "outputs": [
        {
          "output_type": "stream",
          "name": "stdout",
          "text": [
            "<built-in method count of str object at 0x7c0692b47830> ) 환영합니다.\n",
            "(0) 환영합니다.\n",
            "<built-in method count of str object at 0x7c0692b47830> ) 환영합니다.\n",
            "(1) 환영합니다.\n",
            "<built-in method count of str object at 0x7c0692b47830> ) 환영합니다.\n",
            "(2) 환영합니다.\n",
            "<built-in method count of str object at 0x7c0692b47830> ) 환영합니다.\n",
            "(3) 환영합니다.\n",
            "<built-in method count of str object at 0x7c0692b47830> ) 환영합니다.\n",
            "(4) 환영합니다.\n",
            "<built-in method count of str object at 0x7c0692b47830> ) 환영합니다.\n",
            "(5) 환영합니다.\n"
          ]
        }
      ]
    },
    {
      "cell_type": "markdown",
      "source": [
        "3. 0부터 9까지 출력하는 코드 작성\n",
        "- 변수:x"
      ],
      "metadata": {
        "id": "d4GOYb8CUv6L"
      }
    },
    {
      "cell_type": "code",
      "source": [
        "x=0\n",
        "while x<10:\n",
        "  print(x,end=' ')\n",
        "  x +=1"
      ],
      "metadata": {
        "colab": {
          "base_uri": "https://localhost:8080/"
        },
        "id": "0eZkexdWU1qt",
        "outputId": "55cb4a7c-a4c0-477d-dc10-aaa5db6bf2ba"
      },
      "execution_count": 24,
      "outputs": [
        {
          "output_type": "stream",
          "name": "stdout",
          "text": [
            "0 1 2 3 4 5 6 7 8 9 "
          ]
        }
      ]
    },
    {
      "cell_type": "markdown",
      "source": [
        "4.1 부터 10까지 정수의 합을 계산하여 출력하는 코드"
      ],
      "metadata": {
        "id": "lsiTJSU8YdJM"
      }
    },
    {
      "cell_type": "code",
      "source": [
        "x=1\n",
        "total = 0\n",
        "while x <= 10:\n",
        "  total = total + x\n",
        "  x += 1\n",
        "print(total)"
      ],
      "metadata": {
        "colab": {
          "base_uri": "https://localhost:8080/"
        },
        "id": "_HxcYk-DYioy",
        "outputId": "c0ee355a-4b65-4358-8a36-f0cb915858a2"
      },
      "execution_count": 26,
      "outputs": [
        {
          "output_type": "stream",
          "name": "stdout",
          "text": [
            "55\n"
          ]
        }
      ]
    },
    {
      "cell_type": "code",
      "source": [
        "x = 1\n",
        "while x<= 10:\n",
        "  print(x)\n",
        ""
      ],
      "metadata": {
        "id": "xggF_HWNY5Bm"
      },
      "execution_count": null,
      "outputs": []
    },
    {
      "cell_type": "markdown",
      "source": [
        "5. 3--6--9 게임(3의 배수 판단): 3의 배수를 3으로 나누면 나머지가 0이 되므로(i mod 3의 값이 0이면 박수를 출력, 아니면 숫자를 출력해주는 코드 작성."
      ],
      "metadata": {
        "id": "P2c_TjGKVnjh"
      }
    },
    {
      "cell_type": "code",
      "source": [
        "i=0                         #변수 i는 0으로 선언\n",
        "while i <=30:               #반복문 while을 사용해서 i가 30보다 작거나 같을때\n",
        "  if i % 3 == 0:            #만약 i값을 3으로 나눈 나머지가 0이면\n",
        "    print(\"박수\", end=' ')  #박수를 출력하고 공백을 하나 만듦\n",
        "  else:                     #위의 것이 아니면\n",
        "    print(i,end=' ')        #i값만 출력하고 공백 하나 만듦\n",
        "  i += 1                    #변수 i의 값에 i와 1을 더해서 다시 변수 i에 선언"
      ],
      "metadata": {
        "colab": {
          "base_uri": "https://localhost:8080/"
        },
        "id": "uNHqVtsFWB2X",
        "outputId": "ec26327c-2a11-4f01-ff3c-4634b880945f"
      },
      "execution_count": 25,
      "outputs": [
        {
          "output_type": "stream",
          "name": "stdout",
          "text": [
            "박수 1 2 박수 4 5 박수 7 8 박수 10 11 박수 13 14 박수 16 17 박수 19 20 박수 22 23 박수 25 26 박수 28 29 박수 "
          ]
        }
      ]
    },
    {
      "cell_type": "code",
      "source": [
        "for num in range(1, 11):      #1부터 11까지의 숫자를 반복\n",
        "  if num % 3 ==0:             #숫자(num)을 3으로 나눈 나머지가 0인 경우\n",
        "    print(\"박수\", end=' ')    #박수를 출력하고 공백 만듦\n",
        "  else:                       #그게 아니면\n",
        "    print(num, end=' ')       #숫자만 출력하고 공백 만듦\n"
      ],
      "metadata": {
        "colab": {
          "base_uri": "https://localhost:8080/"
        },
        "id": "WRiDRPCXZNF7",
        "outputId": "8d8387c4-f19d-40d0-d51b-9aee1837a8ec"
      },
      "execution_count": 28,
      "outputs": [
        {
          "output_type": "stream",
          "name": "stdout",
          "text": [
            "1 2 박수 4 5 박수 7 8 박수 10 "
          ]
        }
      ]
    },
    {
      "cell_type": "markdown",
      "source": [
        "6. 팩토리얼 계산하는 코드작성"
      ],
      "metadata": {
        "id": "omg5NpGNabmX"
      }
    },
    {
      "cell_type": "code",
      "source": [
        "i=5\n",
        "factorial=1\n",
        "while i >=1:\n",
        "  factorial = factorial *i\n",
        "  i += 1\n",
        "print(factorial)"
      ],
      "metadata": {
        "colab": {
          "base_uri": "https://localhost:8080/",
          "height": 258
        },
        "id": "6mnM0tF7agSb",
        "outputId": "44a89574-2bd3-4dce-c8d9-60c37d1e69f7"
      },
      "execution_count": 33,
      "outputs": [
        {
          "output_type": "error",
          "ename": "KeyboardInterrupt",
          "evalue": "ignored",
          "traceback": [
            "\u001b[0;31m---------------------------------------------------------------------------\u001b[0m",
            "\u001b[0;31mKeyboardInterrupt\u001b[0m                         Traceback (most recent call last)",
            "\u001b[0;32m<ipython-input-33-3f267888183c>\u001b[0m in \u001b[0;36m<cell line: 3>\u001b[0;34m()\u001b[0m\n\u001b[1;32m      1\u001b[0m \u001b[0mi\u001b[0m\u001b[0;34m=\u001b[0m\u001b[0;36m5\u001b[0m\u001b[0;34m\u001b[0m\u001b[0;34m\u001b[0m\u001b[0m\n\u001b[1;32m      2\u001b[0m \u001b[0mfactorial\u001b[0m\u001b[0;34m=\u001b[0m\u001b[0;36m1\u001b[0m\u001b[0;34m\u001b[0m\u001b[0;34m\u001b[0m\u001b[0m\n\u001b[0;32m----> 3\u001b[0;31m \u001b[0;32mwhile\u001b[0m \u001b[0mi\u001b[0m \u001b[0;34m>=\u001b[0m\u001b[0;36m1\u001b[0m\u001b[0;34m:\u001b[0m\u001b[0;34m\u001b[0m\u001b[0;34m\u001b[0m\u001b[0m\n\u001b[0m\u001b[1;32m      4\u001b[0m   \u001b[0mfactorial\u001b[0m \u001b[0;34m=\u001b[0m \u001b[0mfactorial\u001b[0m \u001b[0;34m*\u001b[0m\u001b[0mi\u001b[0m\u001b[0;34m\u001b[0m\u001b[0;34m\u001b[0m\u001b[0m\n\u001b[1;32m      5\u001b[0m   \u001b[0mi\u001b[0m \u001b[0;34m+=\u001b[0m \u001b[0;36m1\u001b[0m\u001b[0;34m\u001b[0m\u001b[0;34m\u001b[0m\u001b[0m\n",
            "\u001b[0;31mKeyboardInterrupt\u001b[0m: "
          ]
        }
      ]
    },
    {
      "cell_type": "code",
      "source": [
        "num = int(input(\"팩토리얼 값 입력: \"))\n",
        "factorial = 1\n",
        "while num >= 1:\n",
        "  factorial = factorial * num\n",
        "  num -= 1\n",
        "print(\"계산된 팩토리얼 값은: \", factorial)"
      ],
      "metadata": {
        "colab": {
          "base_uri": "https://localhost:8080/"
        },
        "id": "wrol57-1a0v5",
        "outputId": "8b02592f-32cd-43a1-d5a8-4b4dfd870b12"
      },
      "execution_count": 31,
      "outputs": [
        {
          "output_type": "stream",
          "name": "stdout",
          "text": [
            "팩토리얼 값 입력: 5\n",
            "계산된 팩토리얼 값은:  120\n"
          ]
        }
      ]
    }
  ]
}