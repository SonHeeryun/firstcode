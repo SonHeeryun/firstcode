{
  "nbformat": 4,
  "nbformat_minor": 0,
  "metadata": {
    "colab": {
      "provenance": [],
      "authorship_tag": "ABX9TyMfxq/o13U0P+teCrdUG+/1",
      "include_colab_link": true
    },
    "kernelspec": {
      "name": "python3",
      "display_name": "Python 3"
    },
    "language_info": {
      "name": "python"
    }
  },
  "cells": [
    {
      "cell_type": "markdown",
      "metadata": {
        "id": "view-in-github",
        "colab_type": "text"
      },
      "source": [
        "<a href=\"https://colab.research.google.com/github/SonHeeryun/firstcode/blob/main/CTBA_9.ipynb\" target=\"_parent\"><img src=\"https://colab.research.google.com/assets/colab-badge.svg\" alt=\"Open In Colab\"/></a>"
      ]
    },
    {
      "cell_type": "markdown",
      "source": [
        "1.두가지 이상의 선택 다방향 선택구조 코딩\n",
        "- 배송료 처리 세가지로 작성\n",
        "- 변수: price. 가격 100000원 이상 0원, 2만원 이상 3000원, 그외 5천원식"
      ],
      "metadata": {
        "id": "Z5tKI2hzQzs2"
      }
    },
    {
      "cell_type": "code",
      "execution_count": null,
      "metadata": {
        "id": "U7YAQqxDP_f0"
      },
      "outputs": [],
      "source": [
        "print(\"배송료를 계산합니다.\")               # 배송료 계산을 위한 안내 메시지 출력\n",
        "print(\"#\"*30)                               # 구분선 출력\n",
        "price=int(input(\"구입금액입력: \"))          # 사용자로부터 구입 금액을 입력받음\n",
        "if price >= 100000:                         # 만약 구입 금액이 100,000원 이상이면\n",
        "  shipping_cost= 0                          # 배송료는 0원\n",
        "else:\n",
        "  if price >= 20000:                        # 그렇지 않고 구입 금액이 20,000원 이상이면\n",
        "    shipping_cost = 3000                    # 배송료는 3,000원\n",
        "  else:\n",
        "    shipping_cost= 5000                     # 그 외의 경우 배송료는 5,000원\n",
        "print(f'배송료는 {shipping_cost}입니다.')   # 계산된 배송료 출력"
      ]
    },
    {
      "cell_type": "markdown",
      "source": [
        "2. 환영합니다. 5번 출력. 10번 출력, 30번 출력"
      ],
      "metadata": {
        "id": "rTczc37gQ4OV"
      }
    },
    {
      "cell_type": "code",
      "source": [
        "print(\"환영합니다\")   # 환영 메시지 출력\n",
        "print(\"환영합니다\")   # 환영 메시지 출력\n",
        "print(\"환영합니다\")   # 환영 메시지 출력\n",
        "print(\"환영합니다\")   # 환영 메시지 출력\n",
        "print(\"환영합니다\")   # 환영 메시지 출력"
      ],
      "metadata": {
        "id": "6flS5aN3Q78d"
      },
      "execution_count": null,
      "outputs": []
    },
    {
      "cell_type": "code",
      "source": [
        "print(\"환영합니다.\\n\" * 5)  # \"환영합니다.\"를 5번 출력하고 각 줄마다 줄바꿈을 추가하여 출력"
      ],
      "metadata": {
        "id": "H5hUJCYwRJJv"
      },
      "execution_count": null,
      "outputs": []
    },
    {
      "cell_type": "code",
      "source": [
        "count=0                                   # count 변수를 0으로 초기화\n",
        "while count <=5:                          # count가 5 이하인 동안 반복\n",
        "  print(\"(\". count, \")\", \"환영합니다.\")   # count 값을 포함한 환영 메시지 출력\n",
        "  print(f'({count})',\"환영합니다.\")       # count 값을 포함한 환영 메시지 출력\n",
        "  #count=count+1                          # count 값을 1씩 증가시킴\n",
        "  count +=1                               # count 값을 1씩 증가시킴"
      ],
      "metadata": {
        "id": "Yni-WEO1aodb"
      },
      "execution_count": null,
      "outputs": []
    },
    {
      "cell_type": "markdown",
      "source": [
        "3. 0부터 9까지 출력하는 코드 작성\n",
        "- 변수:x"
      ],
      "metadata": {
        "id": "pTl3dF4RbdOf"
      }
    },
    {
      "cell_type": "code",
      "source": [
        "x=0                       # x 변수를 0으로 초기화\n",
        "while x<10:               # x가 10보다 작은 동안 반복\n",
        "  print(x,end=' ')        # x 값을 출력하고 공백으로 구분하여 출력\n",
        "  x +=1                   # x 값을 1씩 증가시킴\n"
      ],
      "metadata": {
        "id": "MpFnCTAHcOmV"
      },
      "execution_count": null,
      "outputs": []
    },
    {
      "cell_type": "markdown",
      "source": [
        "4. .1 부터 10까지 정수의 합을 계산하여 출력하는 코드"
      ],
      "metadata": {
        "id": "YyAy7KZ4cZHw"
      }
    },
    {
      "cell_type": "code",
      "source": [
        "x=1                   # x 변수를 1로 초기화\n",
        "total = 0             # total 변수를 0으로 초기화\n",
        "while x <= 10:        # x가 10 이하인 동안 반복\n",
        "  total = total + x   # total에 x 값을 더함\n",
        "  x += 1              # x 값을 1씩 증가시킴\n",
        "print(total)          # total 값을 출력"
      ],
      "metadata": {
        "id": "XP7oxvt2cbJr"
      },
      "execution_count": null,
      "outputs": []
    },
    {
      "cell_type": "code",
      "source": [
        "x = 1            # x 변수를 1로 초기화\n",
        "while x<= 10:    # x가 10 이하인 동안 반복\n",
        "  print(x)       # x 값을 출력"
      ],
      "metadata": {
        "id": "9d7r96ISdZ7n"
      },
      "execution_count": null,
      "outputs": []
    },
    {
      "cell_type": "markdown",
      "source": [
        "5. 3--6--9 게임(3의 배수 판단): 3의 배수를 3으로 나누면 나머지가 0이 되므로(i mod 3의 값이 0이면 박수를 출력, 아니면 숫자를 출력해주는 코드 작성."
      ],
      "metadata": {
        "id": "l6RKHS5pe47A"
      }
    },
    {
      "cell_type": "code",
      "source": [
        "i=0                         #변수 i는 0으로 선언\n",
        "while i <=30:               #반복문 while을 사용해서 i가 30보다 작거나 같을때\n",
        "  if i % 3 == 0:            #만약 i값을 3으로 나눈 나머지가 0이면\n",
        "    print(\"박수\", end=' ')  #박수를 출력하고 공백을 하나 만듦\n",
        "  else:                     #위의 것이 아니면\n",
        "    print(i,end=' ')        #i값만 출력하고 공백 하나 만듦\n",
        "  i += 1                    #변수 i의 값에 i와 1을 더해서 다시 변수 i에 선언"
      ],
      "metadata": {
        "id": "tEOQRBGge8es"
      },
      "execution_count": null,
      "outputs": []
    },
    {
      "cell_type": "code",
      "source": [
        "for num in range(1, 11):      #1부터 11까지의 숫자를 반복\n",
        "  if num % 3 ==0:             #숫자(num)을 3으로 나눈 나머지가 0인 경우\n",
        "    print(\"박수\", end=' ')    #박수를 출력하고 공백 만듦\n",
        "  else:                       #그게 아니면\n",
        "    print(num, end=' ')       #숫자만 출력하고 공백 만듦"
      ],
      "metadata": {
        "id": "27bOTVgce_HI"
      },
      "execution_count": null,
      "outputs": []
    },
    {
      "cell_type": "markdown",
      "source": [
        "6. 팩토리얼 계산하는 코드작성"
      ],
      "metadata": {
        "id": "OH5cbyZbfAjx"
      }
    },
    {
      "cell_type": "code",
      "source": [
        "i=5                         # i 변수를 5로 초기화\n",
        "factorial=1                 # factorial 변수를 1로 초기화\n",
        "while i >=1:                # i가 1 이상인 동안 반복\n",
        "  factorial = factorial *i  # factorial에 i 값을 곱함\n",
        "  i += 1                    # i 값을 1씩 감소시킴\n",
        "print(factorial)            # factorial 값을 출력"
      ],
      "metadata": {
        "id": "qb8ytVT4fDVQ"
      },
      "execution_count": null,
      "outputs": []
    },
    {
      "cell_type": "code",
      "source": [
        "num = int(input(\"팩토리얼 값 입력: \"))       # 사용자로부터 값을 입력받음\n",
        "factorial = 1                                # factorial 변수를 1로 초기화\n",
        "while num >= 1:                              # num이 1 이상인 동안 반복\n",
        "  factorial = factorial * num                # factorial에 num 값을 곱함\n",
        "  num -= 1                                   # num 값을 1씩 감소시킴\n",
        "print(\"계산된 팩토리얼 값은: \", factorial)   # 계산된 팩토리얼 값을 출력"
      ],
      "metadata": {
        "id": "iugoMeisfeio"
      },
      "execution_count": null,
      "outputs": []
    }
  ]
}