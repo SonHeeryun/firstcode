{
  "nbformat": 4,
  "nbformat_minor": 0,
  "metadata": {
    "colab": {
      "provenance": [],
      "authorship_tag": "ABX9TyMjAfRc+Mazf+hHYzrgHf0e",
      "include_colab_link": true
    },
    "kernelspec": {
      "name": "python3",
      "display_name": "Python 3"
    },
    "language_info": {
      "name": "python"
    }
  },
  "cells": [
    {
      "cell_type": "markdown",
      "metadata": {
        "id": "view-in-github",
        "colab_type": "text"
      },
      "source": [
        "<a href=\"https://colab.research.google.com/github/SonHeeryun/firstcode/blob/main/py231019.ipynb\" target=\"_parent\"><img src=\"https://colab.research.google.com/assets/colab-badge.svg\" alt=\"Open In Colab\"/></a>"
      ]
    },
    {
      "cell_type": "markdown",
      "source": [
        "to do list를 작성하시오.\n",
        "  -2023년 10월 19일 손희륜\n",
        "  - (1) 09:20도서관에서 책 빌리기\n",
        "  - (2) 11:10 컴퓨팅적사고와 기초코딩 수업\n",
        "  - (3) 13:00 점심식사\n",
        "  - (4) 14:00 교양수업\n",
        "  - (5) 16:00 파이썬 공부 및 레포트 작성\n",
        "  _ (6) 17:40 저녁식사및 집안일 돕기\n",
        "  _ (7) 19:00 LOL하기."
      ],
      "metadata": {
        "id": "ornJ5RV0wUKh"
      }
    },
    {
      "cell_type": "code",
      "source": [
        "print(\" - (1) 09:20도서관에서 책 빌리기\",                                                                   # 도서관에서 책을 빌리는 일정\n",
        "\" - (2) 11:10 컴퓨팅적사고와 기초코딩 수업\",                                                                # 컴퓨팅적 사고와 기초 코딩 수업\n",
        "\" - (3) 13:00 점심식사\"                                                                                     # 점심식사\n",
        "\" - (4) 14:00 교양수업\",                                                                                    # 교양 수업\n",
        "\" - (5) 16:00 파이썬 공부 및 레포트 작성 - (6) 17:40 저녁식사및 집안일 돕기 - (7) 19:00 LOL하기\")           # 파이썬 공부, 레포트 작성, 저녁식사, 집안일, LOL하기"
      ],
      "metadata": {
        "colab": {
          "base_uri": "https://localhost:8080/"
        },
        "id": "V3Y8h7imyYZw",
        "outputId": "fda7e666-6741-4bcb-8ed6-c262a05d188f"
      },
      "execution_count": null,
      "outputs": [
        {
          "output_type": "stream",
          "name": "stdout",
          "text": [
            " - (1) 09:20도서관에서 책 빌리기  - (2) 11:10 컴퓨팅적사고와 기초코딩 수업  - (3) 13:00 점심식사 - (4) 14:00 교양수업  - (5) 16:00 파이썬 공부 및 레포트 작성 - (6) 17:40 저녁식사및 집안일 돕기 - (7) 19:00 LOL하기\n"
          ]
        }
      ]
    },
    {
      "cell_type": "markdown",
      "source": [
        "2. 인삿말 출력하기\n",
        "  - 식사하셨습니까? 행님"
      ],
      "metadata": {
        "id": "nDNH4AEWwWvX"
      }
    },
    {
      "cell_type": "code",
      "source": [
        "print(\"식사하셨습니까? 행님\")     #식사하셨습니까? 행님 을 출력함"
      ],
      "metadata": {
        "colab": {
          "base_uri": "https://localhost:8080/"
        },
        "id": "FnqEQE42x3If",
        "outputId": "5b9e3a03-57e2-422e-8ea5-7bb7888b55c8"
      },
      "execution_count": null,
      "outputs": [
        {
          "output_type": "stream",
          "name": "stdout",
          "text": [
            "식사하셨습니까? 행님\n"
          ]
        }
      ]
    },
    {
      "cell_type": "markdown",
      "source": [
        "3. 학생 4명의 국어점수를 입력받아서 아래와 같이 출력하시오.ㅣ\n",
        "  - 박보검: 90점\n",
        "  - 션    : 92점\n",
        "  - 도룡용: 80점\n",
        "  - 차은우: 99점\n",
        "  - 국어점수 순위\n",
        "  - 1등 차은우\n",
        "  - 2등 션\n",
        "  - 3등 박보검\n",
        "  - 4등 도룡용"
      ],
      "metadata": {
        "id": "gEZCgbYvws3m"
      }
    },
    {
      "cell_type": "code",
      "source": [
        "n1 = input(\"박보검의 점수를 입력하시오\")      # 박보검의 점수를 입력받는 변수\n",
        "n2 = input(\"션의 점수를 입력하시오\")          # 션의 점수를 입력받는 변수\n",
        "n3 = input(\"도룡용의 점수를 입력하시오\")      # 도룡용의 점수를 입력받는 변수\n",
        "n4 = input(\"차은우의 점수를 입력하시오\")      # 차은우의 점수를 입력받는 변수\n",
        "print(\"1등:\",\"차은우\",n4)                     # 1등과 점수를 출력하는 부분\n",
        "print(\"2등:\",\"션\",n2)                         # 2등과 점수를 출력하는 부분\n",
        "print(\"3등:\",\"박보검\",n1)                     # 3등과 점수를 출력하는 부분\n",
        "print(\"4등:\",\"도룡용\",n3)                     # 4등과 점수를 출력하는 부분"
      ],
      "metadata": {
        "colab": {
          "base_uri": "https://localhost:8080/"
        },
        "id": "Jtq3c34ry6ro",
        "outputId": "fa0bcb65-bf9d-484e-bf4b-79ff582fde59"
      },
      "execution_count": null,
      "outputs": [
        {
          "output_type": "stream",
          "name": "stdout",
          "text": [
            "박보검의 점수를 입력하시오90\n",
            "션의 점수를 입력하시오92\n",
            "도룡용의 점수를 입력하시오80\n",
            "차은우의 점수를 입력하시오99\n",
            "1등: 차은우 99\n",
            "2등: 션 92\n",
            "3등: 박보검 90\n",
            "4등: 도룡용 80\n"
          ]
        }
      ]
    },
    {
      "cell_type": "markdown",
      "source": [
        "4. 2개의 점수를 입력받아서 합계와 평균을 입력하시오."
      ],
      "metadata": {
        "id": "PrFYZJPJxkjJ"
      }
    },
    {
      "cell_type": "code",
      "source": [
        "n1 = int(input(\"박보검의 점수를 입력하시오\"))     # 박보검의 점수를 입력받는 변수 (정수로 변환)\n",
        "n2 = int(input(\"션의 점수를 입력하시오\"))         # 션의 점수를 입력받는 변수 (정수로 변환)\n",
        "print(n1+n2)                                      # 두 점수의 합을 출력\n",
        "print((n1+n2)/2)                                  # 두 점수의 평균을 출력"
      ],
      "metadata": {
        "colab": {
          "base_uri": "https://localhost:8080/"
        },
        "id": "ABPgfiGjz8cJ",
        "outputId": "48333280-47f0-47d8-f962-c830ab19823d"
      },
      "execution_count": null,
      "outputs": [
        {
          "output_type": "stream",
          "name": "stdout",
          "text": [
            "박보검의 점수를 입력하시오90\n",
            "션의 점수를 입력하시오92\n",
            "182\n",
            "91.0\n"
          ]
        }
      ]
    }
  ]
}